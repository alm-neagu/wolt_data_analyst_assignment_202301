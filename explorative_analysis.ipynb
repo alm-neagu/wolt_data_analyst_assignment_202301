{
 "cells": [
  {
   "attachments": {},
   "cell_type": "markdown",
   "metadata": {},
   "source": [
    "# Explorative  Analysis"
   ]
  },
  {
   "attachments": {},
   "cell_type": "markdown",
   "metadata": {},
   "source": [
    "## Import packages"
   ]
  },
  {
   "cell_type": "code",
   "execution_count": null,
   "metadata": {},
   "outputs": [],
   "source": [
    "import pandas as pd\n",
    "import numpy as np\n",
    "import ast\n",
    "from datetime import datetime\n",
    "import matplotlib.pyplot as plt\n",
    "import matplotlib.ticker as tkr\n",
    "import seaborn as sns\n",
    "from sklearn.decomposition import PCA\n",
    "from sklearn.cluster import KMeans\n",
    "from sklearn.preprocessing import MinMaxScaler\n",
    "\n",
    "pd.set_option('display.max_columns', None)\n"
   ]
  },
  {
   "attachments": {},
   "cell_type": "markdown",
   "metadata": {},
   "source": [
    "## Plot parameters"
   ]
  },
  {
   "cell_type": "code",
   "execution_count": null,
   "metadata": {},
   "outputs": [],
   "source": [
    "sns.set_palette(['silver', 'skyblue', 'darkorange'], n_colors=3)\n",
    "sns.despine(right=False, top=False)\n",
    "\n",
    "plt.rcParams.update({'font.size': 18,\n",
    "                     'axes.edgecolor': 'gray',\n",
    "                     'axes.labelcolor': 'gray',\n",
    "                     'axes.labelweight': 'ultralight',\n",
    "                     'xtick.color': 'gray',\n",
    "                     'xtick.labelsize': 'small',\n",
    "                     'ytick.color': 'gray',\n",
    "                     'ytick.labelsize': 'small',\n",
    "                     'axes.titlelocation': 'center',\n",
    "                     'yaxis.labellocation': 'top',\n",
    "                     'patch.edgecolor': 'gray',\n",
    "                     'axes.titlecolor': 'dimgray',\n",
    "                     'axes.formatter.useoffset': False,\n",
    "                     'axes.formatter.use_mathtext': True,\n",
    "                     'figure.facecolor': 'white',\n",
    "                     'axes.facecolor': 'white',\n",
    "                     'savefig.facecolor': 'white',\n",
    "                     \"axes.labelsize\": 18,\n",
    "                     'figure.figsize': [8, 8]\n",
    "                     }\n",
    "                    )\n",
    "\n",
    "# plt.rcParams.keys()\n"
   ]
  },
  {
   "attachments": {},
   "cell_type": "markdown",
   "metadata": {},
   "source": [
    "## Read data\n",
    "- The dataset has 21983 rows and 30 columns\n",
    "- Every row of the dataset represents one customer who has registered to use the service during September 2019 and either has or hasn’t made orders during the time from then and October 2020."
   ]
  },
  {
   "cell_type": "code",
   "execution_count": null,
   "metadata": {},
   "outputs": [],
   "source": [
    "# Path of the csv file containing wolt user data\n",
    "user_data_path = \"data\\dataset_for_analyst_assignment_20201120.csv\"\n",
    "\n",
    "# Read provided data from csv file\n",
    "user_data_df = pd.read_csv(user_data_path)\n"
   ]
  },
  {
   "cell_type": "code",
   "execution_count": null,
   "metadata": {},
   "outputs": [],
   "source": [
    "# Check dataset size\n",
    "user_data_df.shape\n"
   ]
  },
  {
   "cell_type": "code",
   "execution_count": null,
   "metadata": {},
   "outputs": [],
   "source": [
    "# Check first 5 rows of teh raw data\n",
    "user_data_df.head()\n"
   ]
  },
  {
   "attachments": {},
   "cell_type": "markdown",
   "metadata": {},
   "source": [
    "## Data wrangling"
   ]
  },
  {
   "cell_type": "code",
   "execution_count": null,
   "metadata": {},
   "outputs": [],
   "source": [
    "# Change data type to date for columns representing a date\n",
    "user_data_df[[\"REGISTRATION_DATE\", \"FIRST_PURCHASE_DAY\", \"LAST_PURCHASE_DAY\"]] = user_data_df[[\n",
    "    \"REGISTRATION_DATE\", \"FIRST_PURCHASE_DAY\", \"LAST_PURCHASE_DAY\"]].apply(pd.to_datetime)\n",
    "\n",
    "# Check column data types\n",
    "user_data_df.dtypes\n"
   ]
  },
  {
   "attachments": {},
   "cell_type": "markdown",
   "metadata": {},
   "source": [
    "### Explode column PURCHASE_COUNT_BY_STORE_TYPE"
   ]
  },
  {
   "cell_type": "code",
   "execution_count": null,
   "metadata": {},
   "outputs": [],
   "source": [
    "# Data frame with columns purchase count for each store type\n",
    "store_type_df = (user_data_df[\"PURCHASE_COUNT_BY_STORE_TYPE\"].replace('\\n', '', regex=True)\n",
    "                 .apply(ast.literal_eval)\n",
    "                 .apply(pd.Series)\n",
    "                 .rename(columns={\"General merchandise\": \"PURCHASE_COUNT_GENERAL_MERCHANDISE\",\n",
    "                                  \"Grocery\": \"PURCHASE_COUNT_GROCERY\",\n",
    "                                  \"Pet supplies\": \"PURCHASE_COUNT_PET_SUPPLIES\",\n",
    "                                  \"Restaurant\": \"PURCHASE_COUNT_RESTAURANT\",\n",
    "                                  \"Retail store\": \"PURCHASE_COUNT_RETAIL_STORE\"})\n",
    "                 )\n",
    "\n",
    "# Remove old column for PURCHASE_COUNT_BY_STORE_TYPE and add the individual columns with purchase count for each store type\n",
    "user_data_df = pd.concat([user_data_df.drop(\n",
    "    [\"PURCHASE_COUNT_BY_STORE_TYPE\"], axis=1), store_type_df], axis=1)\n"
   ]
  },
  {
   "attachments": {},
   "cell_type": "markdown",
   "metadata": {},
   "source": [
    "### Check data quality\n"
   ]
  },
  {
   "attachments": {},
   "cell_type": "markdown",
   "metadata": {},
   "source": [
    "#### Missing values\n",
    "- The columns REGISTRATION_COUNTRY, PURCHASE_COUNT, PURCHASE_COUNT_BY_STORE_TYPE, USER_ID, USER_HAS_VALID_PAYMENT_METHOD, REGISTRATION_DATE have no missing data\n",
    "- Most columns for users that made no purchase are expected to be empty\n",
    "- PREFERRED_RESTAURANT_TYPES has 87.7% missing values"
   ]
  },
  {
   "cell_type": "code",
   "execution_count": null,
   "metadata": {},
   "outputs": [],
   "source": [
    "# Sum all missing values for each column\n",
    "total = user_data_df.isnull().sum().sort_values(ascending=False)\n",
    "\n",
    "# Calculate the percentage of missing values for each column\n",
    "percent = round(user_data_df.isnull().sum(\n",
    ")/user_data_df.isnull().count()*100, 1).sort_values(ascending=False)\n",
    "\n",
    "# Create a data frame containing the total number of missing values and the % out of the total number of values\n",
    "missing_data = pd.concat([total, percent], axis=1, keys=['Total', '%'])\n",
    "\n",
    "# Check the % of missing values for each column\n",
    "missing_data\n"
   ]
  },
  {
   "attachments": {},
   "cell_type": "markdown",
   "metadata": {},
   "source": [
    "##### Missing values for users that made at least one purchase\n",
    "- PREFERRED_RESTAURANT_TYPES has a high share of missing values even for users that made at least one purchase"
   ]
  },
  {
   "cell_type": "code",
   "execution_count": null,
   "metadata": {},
   "outputs": [],
   "source": [
    "# Sum all missing values for each column\n",
    "total = user_data_df.query(\"PURCHASE_COUNT > 0\").isnull(\n",
    ").sum().sort_values(ascending=False)\n",
    "\n",
    "# Calculate the percentage of missing values for each column\n",
    "percent = round(user_data_df.query(\"PURCHASE_COUNT > 0\").isnull().sum(\n",
    ")/user_data_df.query(\"PURCHASE_COUNT > 0\").isnull().count()*100, 1).sort_values(ascending=False)\n",
    "\n",
    "# Create a data frame containing the total number of missing values and the % out of the total number of values\n",
    "missing_data = pd.concat([total, percent], axis=1, keys=['Total', '%'])\n",
    "\n",
    "# Check the % of missing values for each column\n",
    "missing_data.query(\"Total > 0\")\n"
   ]
  },
  {
   "attachments": {},
   "cell_type": "markdown",
   "metadata": {},
   "source": [
    "#### Is registration date during September 2019?\n",
    "- Yes all registration dates are during 2019-09"
   ]
  },
  {
   "cell_type": "code",
   "execution_count": null,
   "metadata": {},
   "outputs": [],
   "source": [
    "# Check if all registration dates are from 2019-09\n",
    "registration_date_s = user_data_df[\"REGISTRATION_DATE\"].dt.to_period('M')\n",
    "set(registration_date_s)\n"
   ]
  },
  {
   "attachments": {},
   "cell_type": "markdown",
   "metadata": {},
   "source": [
    "#### Are all user_ids unique?\n",
    "- Yes all user_ids are unique"
   ]
  },
  {
   "cell_type": "code",
   "execution_count": null,
   "metadata": {},
   "outputs": [],
   "source": [
    "# Users IDs count and distinct count to check for duplicates\n",
    "user_data_df.agg(count_users=(\"USER_ID\", \"count\"),\n",
    "                 distinct=(\"USER_ID\", \"nunique\"))\n"
   ]
  },
  {
   "attachments": {},
   "cell_type": "markdown",
   "metadata": {},
   "source": [
    "#### Are there any negative purchase_count?\n",
    "- no negative values as expected"
   ]
  },
  {
   "cell_type": "code",
   "execution_count": null,
   "metadata": {},
   "outputs": [],
   "source": [
    "# Count negative purchases\n",
    "user_data_df.query(\"PURCHASE_COUNT < 0\")[\"PURCHASE_COUNT\"].count()\n"
   ]
  },
  {
   "attachments": {},
   "cell_type": "markdown",
   "metadata": {},
   "source": [
    "#### Is purchase_count = ios_purchase + web_purchases + android_purchases?\n",
    "- Yes"
   ]
  },
  {
   "cell_type": "code",
   "execution_count": null,
   "metadata": {},
   "outputs": [],
   "source": [
    "# Check if ios_purchase + web_purchases + android_purchases\n",
    "user_data_df.query(\n",
    "    \"PURCHASE_COUNT != IOS_PURCHASES + WEB_PURCHASES + ANDROID_PURCHASES and PURCHASE_COUNT > 0\")[\"PURCHASE_COUNT\"].count()\n"
   ]
  },
  {
   "attachments": {},
   "cell_type": "markdown",
   "metadata": {},
   "source": [
    "#### Is purchase_count = purchase_count_delivery + purchase_count_takeaway?\n",
    "- Yes"
   ]
  },
  {
   "cell_type": "code",
   "execution_count": null,
   "metadata": {},
   "outputs": [],
   "source": [
    "# purchase_count_delivery + purchase_count_takeaway\n",
    "user_data_df.query(\n",
    "    \"PURCHASE_COUNT != PURCHASE_COUNT_DELIVERY + PURCHASE_COUNT_TAKEAWAY and PURCHASE_COUNT > 0\")[\"PURCHASE_COUNT\"].count()\n"
   ]
  },
  {
   "attachments": {},
   "cell_type": "markdown",
   "metadata": {},
   "source": [
    "### New column preferred_device_corr \n",
    "- For users that made no purchase the data is the same and represents the device the user used to register, but for users that made at least one purchase this column represents the device with most purchases"
   ]
  },
  {
   "cell_type": "code",
   "execution_count": null,
   "metadata": {},
   "outputs": [],
   "source": [
    "# Create column PREFERRED_DEVICE_CORR\n",
    "user_data_df[\"PREFERRED_DEVICE_CORR\"] = np.where((user_data_df[\"IOS_PURCHASES\"] > user_data_df[\"WEB_PURCHASES\"])\n",
    "                                                 & (user_data_df[\"IOS_PURCHASES\"] > user_data_df[\"ANDROID_PURCHASES\"]), \"ios\",\n",
    "                                                 np.where((user_data_df[\"ANDROID_PURCHASES\"] > user_data_df[\"WEB_PURCHASES\"])\n",
    "                                                          & (user_data_df[\"ANDROID_PURCHASES\"] > user_data_df[\"IOS_PURCHASES\"]), \"android\",\n",
    "                                                          np.where((user_data_df[\"WEB_PURCHASES\"] > user_data_df[\"ANDROID_PURCHASES\"])\n",
    "                                                                   & (user_data_df[\"WEB_PURCHASES\"] > user_data_df[\"IOS_PURCHASES\"]), \"web\", user_data_df[\"PREFERRED_DEVICE\"]\n",
    "                                                                   )))\n"
   ]
  },
  {
   "attachments": {},
   "cell_type": "markdown",
   "metadata": {},
   "source": [
    "### New column for days from last purchase\n",
    "- I am assuming that this analysis would have been used some time after October 2020 to reactivate users that registered in September 2019. So this column was calculated as the difference in days between last purchase day and 2020-10-31."
   ]
  },
  {
   "cell_type": "code",
   "execution_count": null,
   "metadata": {},
   "outputs": [],
   "source": [
    "# Calculate column for days from last purchase\n",
    "user_data_df[\"DAYS_FROM_LAST_PURCHASE\"] = (\n",
    "    datetime(2020, 10, 31) - user_data_df[\"LAST_PURCHASE_DAY\"]).dt.days\n",
    "\n",
    "# Calculate column for days to first purchase\n",
    "user_data_df[\"DAYS_TO_FIRST_PURCHASE\"] = (\n",
    "    user_data_df[\"FIRST_PURCHASE_DAY\"] - user_data_df[\"REGISTRATION_DATE\"]).dt.days\n"
   ]
  },
  {
   "attachments": {},
   "cell_type": "markdown",
   "metadata": {},
   "source": [
    "### Column for purchase count segments"
   ]
  },
  {
   "cell_type": "code",
   "execution_count": null,
   "metadata": {},
   "outputs": [],
   "source": [
    "# Column for purchase count segments\n",
    "user_data_df[\"PURCHASE_COUNT_SEGM\"] = np.where(user_data_df[\"PURCHASE_COUNT\"] == 0, \"inactive\",\n",
    "                                               np.where(user_data_df[\"PURCHASE_COUNT\"] == 1, \"one_time_shoppers\",\n",
    "                                                        np.where((user_data_df[\"PURCHASE_COUNT\"] >= 2) & (user_data_df[\"PURCHASE_COUNT\"] <= 20), \"casual_shoppers\", \"frequent_shoppers\"\n",
    "                                                                 )))\n"
   ]
  },
  {
   "attachments": {},
   "cell_type": "markdown",
   "metadata": {},
   "source": [
    "### Column for days from last purchase segments"
   ]
  },
  {
   "cell_type": "code",
   "execution_count": null,
   "metadata": {},
   "outputs": [],
   "source": [
    "# Column for days from last purchase segments\n",
    "user_data_df[\"DAYS_FROM_LAST_PURCHASE_segm\"] = np.where(\n",
    "    user_data_df[\"DAYS_FROM_LAST_PURCHASE\"] <= 90, \"recent\", \"old\")\n"
   ]
  },
  {
   "attachments": {},
   "cell_type": "markdown",
   "metadata": {},
   "source": [
    "## NEW DATA FRAMES"
   ]
  },
  {
   "cell_type": "code",
   "execution_count": null,
   "metadata": {},
   "outputs": [],
   "source": [
    "# Select data only for top 3 countries accounting for 97% of the data\n",
    "# Remove users that have no data for preferred device\n",
    "# Remove irrelevant columns\n",
    "user_data_filtered_df = (user_data_df[(user_data_df[\"REGISTRATION_COUNTRY\"].isin(['FIN', 'DNK', 'GRC']))\n",
    "                                      & (~user_data_df[\"PREFERRED_DEVICE_CORR\"].isnull())\n",
    "                                      ]\n",
    "                         .reset_index()\n",
    "                         .drop([\"index\", \"PREFERRED_RESTAURANT_TYPES\", \"PREFERRED_DEVICE\", \"LATE_NIGHT_PURCHASES\"], axis=1)\n",
    "                         )\n",
    "\n",
    "\n",
    "# Rename values for payment method column\n",
    "user_data_filtered_df[\"USER_HAS_VALID_PAYMENT_METHOD\"] = np.where(\n",
    "    user_data_filtered_df[\"USER_HAS_VALID_PAYMENT_METHOD\"] == True, \"valid\", \"invalid\")\n"
   ]
  },
  {
   "cell_type": "code",
   "execution_count": null,
   "metadata": {},
   "outputs": [],
   "source": [
    "# Data frame for users that made at least one purchase\n",
    "active_users_df = user_data_filtered_df.query(\n",
    "    \"PURCHASE_COUNT > 0\").reset_index().drop(columns=[\"index\"], axis=1)\n"
   ]
  },
  {
   "attachments": {},
   "cell_type": "markdown",
   "metadata": {},
   "source": [
    "### New column for purchase count groups"
   ]
  },
  {
   "cell_type": "code",
   "execution_count": null,
   "metadata": {},
   "outputs": [],
   "source": [
    "# Column for purchase count groups\n",
    "active_users_df[\"PURCHASE_COUNT_BIN\"] = (\n",
    "    np.where((active_users_df[\"PURCHASE_COUNT\"] == 1), \"1\",\n",
    "             np.where((active_users_df[\"PURCHASE_COUNT\"] > 1) & (active_users_df[\"PURCHASE_COUNT\"] <= 5), \"2-5\",\n",
    "                      np.where((active_users_df[\"PURCHASE_COUNT\"] > 5) & (active_users_df[\"PURCHASE_COUNT\"] <= 10), \"6-10\",\n",
    "                               np.where((active_users_df[\"PURCHASE_COUNT\"] > 10) & (active_users_df[\"PURCHASE_COUNT\"] <= 20), \"11-20\",\n",
    "                                        np.where((active_users_df[\"PURCHASE_COUNT\"] > 20) & (active_users_df[\"PURCHASE_COUNT\"] <= 50), \"21-50\",\n",
    "                                                 \">50\"\n",
    "                                                 )))))\n",
    ")\n"
   ]
  },
  {
   "attachments": {},
   "cell_type": "markdown",
   "metadata": {},
   "source": [
    "## Data visualization"
   ]
  },
  {
   "attachments": {},
   "cell_type": "markdown",
   "metadata": {},
   "source": [
    "### How many users made no purchase in 1 year after registering?"
   ]
  },
  {
   "cell_type": "code",
   "execution_count": null,
   "metadata": {},
   "outputs": [],
   "source": [
    "# Add column to check if a users made at least one purchase\n",
    "user_data_filtered_df[\"USER_HAS_MADE_MIN_ONE_PURCHASE\"] = np.where(\n",
    "    user_data_filtered_df[\"PURCHASE_COUNT\"] > 0, \"Yes\", \"No\")\n"
   ]
  },
  {
   "cell_type": "code",
   "execution_count": null,
   "metadata": {},
   "outputs": [],
   "source": [
    "# Count unique users & percentage users per user type\n",
    "counts = user_data_filtered_df[\"USER_HAS_MADE_MIN_ONE_PURCHASE\"].value_counts()\n",
    "percent = user_data_filtered_df[\"USER_HAS_MADE_MIN_ONE_PURCHASE\"].value_counts(normalize=True)\n",
    "user_per_df = pd.DataFrame({'Users': counts, 'Percentage': percent})\n",
    "\n",
    "# Percentage of users that have made at least one purchase or not\n",
    "user_per_df.style.format({'Percentage': \"{:.2%}\"})\n"
   ]
  },
  {
   "attachments": {},
   "cell_type": "markdown",
   "metadata": {},
   "source": [
    "### No of users per country\n",
    "- FIN, DNK & GRC account for 97% of the data"
   ]
  },
  {
   "cell_type": "code",
   "execution_count": null,
   "metadata": {},
   "outputs": [],
   "source": [
    "# Unique countries\n",
    "user_data_df[\"REGISTRATION_COUNTRY\"].unique().shape"
   ]
  },
  {
   "cell_type": "code",
   "execution_count": null,
   "metadata": {},
   "outputs": [],
   "source": [
    "# Count unique users & percentage users per registration country\n",
    "counts = user_data_df[\"REGISTRATION_COUNTRY\"].value_counts()\n",
    "percent = user_data_df[\"REGISTRATION_COUNTRY\"].value_counts(normalize=True)\n",
    "country_per_df = pd.DataFrame({'Users': counts, 'Percentage': percent}).reset_index()\n",
    "\n",
    "# Percentage of users per registration country\n",
    "country_per_df.head(10).style.format({'Percentage': \"{:.2%}\"})"
   ]
  },
  {
   "cell_type": "code",
   "execution_count": null,
   "metadata": {},
   "outputs": [],
   "source": [
    "# Plot number of users per registration country\n",
    "g = sns.countplot(data=user_data_filtered_df,\n",
    "                  x=\"REGISTRATION_COUNTRY\",\n",
    "                  palette=sns.color_palette(['silver']),\n",
    "                  order=['FIN', 'DNK', 'GRC']\n",
    "                  )\n",
    "\n",
    "g.set(xlabel=\"\", ylabel=\"# USERS\")\n",
    "g.set_title(\"Number of registered users for top 3 countries\",\n",
    "            fontsize=20, loc=\"left\", pad=14)\n",
    "sns.despine()\n"
   ]
  },
  {
   "cell_type": "code",
   "execution_count": null,
   "metadata": {},
   "outputs": [],
   "source": [
    "# Plot number of active and inactive users per registration country\n",
    "g = sns.countplot(data=user_data_filtered_df,\n",
    "                  x=\"REGISTRATION_COUNTRY\",\n",
    "                  palette=sns.color_palette(['#00c4e1', '#980000']),\n",
    "                  order=['FIN', 'DNK', 'GRC'],\n",
    "                  hue=\"USER_HAS_MADE_MIN_ONE_PURCHASE\",\n",
    "                  hue_order=[\"Yes\", \"No\"]\n",
    "                  )\n",
    "\n",
    "g.set(xlabel=\"\", ylabel=\"# USERS\")\n",
    "g.set_title(\"Number of active and inactive users\",\n",
    "            fontsize=20, loc=\"left\", pad=14)\n",
    "g.get_legend().remove()\n",
    "sns.despine()\n"
   ]
  },
  {
   "attachments": {},
   "cell_type": "markdown",
   "metadata": {},
   "source": [
    "### No of users per prefered device\n",
    "- On total most users prefer ios"
   ]
  },
  {
   "cell_type": "code",
   "execution_count": null,
   "metadata": {},
   "outputs": [],
   "source": [
    "# Unique preferred device corrected column\n",
    "user_data_filtered_df[\"PREFERRED_DEVICE_CORR\"].unique()"
   ]
  },
  {
   "cell_type": "code",
   "execution_count": null,
   "metadata": {},
   "outputs": [],
   "source": [
    "# Data frame with percentage of users per preferred device\n",
    "counts = user_data_filtered_df[\"PREFERRED_DEVICE_CORR\"].value_counts()\n",
    "percent = user_data_filtered_df[\"PREFERRED_DEVICE_CORR\"].value_counts(normalize=True)\n",
    "device_per_df = pd.DataFrame({'Users': counts, 'Percentage': percent}).reset_index()\n",
    "\n",
    "# Percentage of users per preferred device\n",
    "device_per_df.head(10).style.format({'Percentage': \"{:.2%}\"})"
   ]
  },
  {
   "cell_type": "code",
   "execution_count": null,
   "metadata": {},
   "outputs": [],
   "source": [
    "# Plot number of user per device\n",
    "g = sns.countplot(data=user_data_filtered_df.query(\"REGISTRATION_COUNTRY == 'GRC' and PURCHASE_COUNT_SEGM == 'inactive'\"),\n",
    "                  x=\"PREFERRED_DEVICE_CORR\",\n",
    "                  palette=sns.color_palette(['silver']),\n",
    "                  order=['ios', 'android', 'web']\n",
    "                  )\n",
    "\n",
    "g.set(xlabel=\"\", ylabel=\"# USERS\")\n",
    "g.set_title(\"Number of users by preferred device\",\n",
    "            fontsize=18, loc=\"left\", pad=14)\n",
    "sns.despine()\n"
   ]
  },
  {
   "cell_type": "code",
   "execution_count": null,
   "metadata": {},
   "outputs": [],
   "source": [
    "# Plot number of users per registration country and device\n",
    "g = sns.catplot(data=user_data_filtered_df,\n",
    "                x=\"PREFERRED_DEVICE_CORR\",\n",
    "                col=\"REGISTRATION_COUNTRY\",\n",
    "                kind=\"count\",\n",
    "                order=['ios', 'android', 'web'],\n",
    "                col_order=[\"FIN\", \"DNK\", \"GRC\"],\n",
    "                palette=sns.color_palette(['silver'])\n",
    "                )\n",
    "\n",
    "g.set_ylabels(\"# USERS\", fontsize=18)\n",
    "g.set_xlabels(\"\")\n",
    "g.set_titles(\"{col_name}\")\n"
   ]
  },
  {
   "attachments": {},
   "cell_type": "markdown",
   "metadata": {},
   "source": [
    "### No of users per valid payment method"
   ]
  },
  {
   "cell_type": "code",
   "execution_count": null,
   "metadata": {},
   "outputs": [],
   "source": [
    "# Number of users per registration country and payment validity\n",
    "user_data_filtered_df.groupby([\"REGISTRATION_COUNTRY\", \"USER_HAS_VALID_PAYMENT_METHOD\"]).agg(\n",
    "    users=(\"USER_ID\", \"nunique\"))\n"
   ]
  },
  {
   "cell_type": "code",
   "execution_count": null,
   "metadata": {},
   "outputs": [],
   "source": [
    "# Plot number of users per registration country and payment validity\n",
    "g = sns.countplot(data=user_data_filtered_df,\n",
    "                  x=\"REGISTRATION_COUNTRY\",\n",
    "                  palette=sns.color_palette(['#00c4e1', '#980000']),\n",
    "                  order=['FIN', 'DNK', 'GRC'],\n",
    "                  hue=\"USER_HAS_VALID_PAYMENT_METHOD\",\n",
    "                  hue_order=[\"valid\", \"invalid\"]\n",
    "                  )\n",
    "\n",
    "g.set(xlabel=\"\", ylabel=\"# USERS\")\n",
    "g.set_title(\"Number of users by payment method\",\n",
    "            fontsize=20, loc=\"left\", pad=14)\n",
    "g.get_legend().remove()\n",
    "sns.despine()\n"
   ]
  },
  {
   "attachments": {},
   "cell_type": "markdown",
   "metadata": {},
   "source": [
    "### No of active and inactive users by country and device"
   ]
  },
  {
   "cell_type": "code",
   "execution_count": null,
   "metadata": {},
   "outputs": [],
   "source": [
    "# Plot active and inactive users by registration country and device\n",
    "g = sns.catplot(data=user_data_filtered_df,\n",
    "                x=\"PREFERRED_DEVICE_CORR\",\n",
    "                col=\"REGISTRATION_COUNTRY\",\n",
    "                hue=\"USER_HAS_MADE_MIN_ONE_PURCHASE\",\n",
    "                hue_order=[\"Yes\", \"No\"],\n",
    "                kind=\"count\",\n",
    "                order=['ios', 'android', 'web'],\n",
    "                col_order=[\"FIN\", \"DNK\", \"GRC\"],\n",
    "                palette=sns.color_palette(['#00c4e1', '#980000']),\n",
    "                legend=False\n",
    "                )\n",
    "\n",
    "g.set_ylabels(\"# USERS\", fontsize=18)\n",
    "g.set_xlabels(\"\")\n",
    "g.set_titles(\"{col_name}\")\n"
   ]
  },
  {
   "attachments": {},
   "cell_type": "markdown",
   "metadata": {},
   "source": [
    "### No of active and inactive users by country and payment validity"
   ]
  },
  {
   "cell_type": "code",
   "execution_count": null,
   "metadata": {},
   "outputs": [],
   "source": [
    "# Plot active and inactive users by registration country and paymeny validity\n",
    "g = sns.catplot(data=user_data_filtered_df,\n",
    "                x=\"USER_HAS_VALID_PAYMENT_METHOD\",\n",
    "                col=\"REGISTRATION_COUNTRY\",\n",
    "                hue=\"USER_HAS_MADE_MIN_ONE_PURCHASE\",\n",
    "                hue_order=[\"Yes\", \"No\"],\n",
    "                kind=\"count\",\n",
    "                order=[\"valid\", \"invalid\"],\n",
    "                col_order=[\"FIN\", \"DNK\", \"GRC\"],\n",
    "                palette=sns.color_palette(['#00c4e1', '#980000']),\n",
    "                legend=False\n",
    "                )\n",
    "\n",
    "g.set_ylabels(\"# USERS\", fontsize=18)\n",
    "g.set_xlabels(\"\")\n",
    "g.set_titles(\"{col_name}\")\n"
   ]
  },
  {
   "attachments": {},
   "cell_type": "markdown",
   "metadata": {},
   "source": [
    "### Distribution of purchase count for active users"
   ]
  },
  {
   "cell_type": "code",
   "execution_count": null,
   "metadata": {},
   "outputs": [],
   "source": [
    "# Plot number of active users by registration country and purchase groups\n",
    "g = sns.catplot(data=active_users_df,\n",
    "                x=\"PURCHASE_COUNT_BIN\",\n",
    "                col=\"REGISTRATION_COUNTRY\",\n",
    "                kind=\"count\",\n",
    "                order=[\"1\", \"2-5\", \"6-10\", \"11-20\", \"21-50\", \">50\"],\n",
    "                col_order=[\"FIN\", \"DNK\", \"GRC\"],\n",
    "                palette=sns.color_palette(\n",
    "                    ['#00c4e1', '#00c4e1', '#C0C0C0', '#C0C0C0', '#C0C0C0', '#980000']),\n",
    "                legend=False,\n",
    "                col_wrap=3,\n",
    "                aspect=1,\n",
    "                height=6\n",
    "                )\n",
    "\n",
    "g.set_ylabels(\"# ACTIVE USERS\", fontsize=18)\n",
    "g.set_xlabels(\"\")\n",
    "g.set_titles(\"{col_name}\")\n"
   ]
  },
  {
   "cell_type": "code",
   "execution_count": null,
   "metadata": {},
   "outputs": [],
   "source": [
    "# Plot total purchase value in eur by registration country and purchase groups\n",
    "g = sns.catplot(data=active_users_df.groupby([\"REGISTRATION_COUNTRY\", \"PURCHASE_COUNT_BIN\"]).agg(sum_purchases_eur=(\"TOTAL_PURCHASES_EUR\", \"sum\")).reset_index(),\n",
    "                x=\"PURCHASE_COUNT_BIN\",\n",
    "                y=\"sum_purchases_eur\",\n",
    "                col=\"REGISTRATION_COUNTRY\",\n",
    "                kind=\"bar\",\n",
    "                order=[\"1\", \"2-5\", \"6-10\", \"11-20\", \"21-50\", \">50\"],\n",
    "                col_order=[\"FIN\", \"DNK\", \"GRC\"],\n",
    "                palette=sns.color_palette(\n",
    "                    ['#C0C0C0', '#C0C0C0', '#C0C0C0', '#00c4e1', '#00c4e1', '#C0C0C0']),\n",
    "                legend=False,\n",
    "                col_wrap=3,\n",
    "                aspect=1,\n",
    "                height=6\n",
    "                )\n",
    "\n",
    "g.set_ylabels(\"TOTAL PURCHASES EUR\", fontsize=18)\n",
    "g.set_xlabels(\"\")\n",
    "g.set_titles(\"{col_name}\")\n",
    "\n",
    "# Format y tick labels\n",
    "for ax in g.axes.flat:\n",
    "    ax.yaxis.set_major_formatter(\n",
    "        tkr.FuncFormatter(lambda y, p: f'{y/1000:.0f}K €'))\n"
   ]
  },
  {
   "attachments": {},
   "cell_type": "markdown",
   "metadata": {},
   "source": [
    "### Distribution of avg purchase value in EUR"
   ]
  },
  {
   "cell_type": "code",
   "execution_count": null,
   "metadata": {},
   "outputs": [],
   "source": [
    "# Median and mean for avg purchase value in eur\n",
    "active_users_df.groupby([\"REGISTRATION_COUNTRY\"]).agg(mean=(\n",
    "    \"AVG_PURCHASE_VALUE_EUR\", \"mean\"), median=(\"AVG_PURCHASE_VALUE_EUR\", \"median\"))\n"
   ]
  },
  {
   "cell_type": "code",
   "execution_count": null,
   "metadata": {},
   "outputs": [],
   "source": [
    "# Plot distribution of avg purchase value per registration country\n",
    "g = sns.catplot(data=active_users_df.query(\"AVG_PURCHASE_VALUE_EUR <= 150\"),\n",
    "                x=\"REGISTRATION_COUNTRY\",\n",
    "                y=\"AVG_PURCHASE_VALUE_EUR\",\n",
    "                kind=\"boxen\",\n",
    "                order=[\"FIN\", \"DNK\", \"GRC\"],\n",
    "                palette=sns.color_palette(['silver']),\n",
    "                legend=False,\n",
    "                height=7\n",
    "                )\n",
    "\n",
    "g.set_ylabels(\"AVG PURCHASE VALUE EUR*\", fontsize=18)\n",
    "g.set_xlabels(\"\")\n",
    "g.set_titles(\"{col_name}\")\n",
    "\n",
    "# Format y tick labels\n",
    "for ax in g.axes.flat:\n",
    "    ax.yaxis.set_major_formatter(tkr.FuncFormatter(lambda y, p: f'{y:.0f} €'))\n"
   ]
  },
  {
   "attachments": {},
   "cell_type": "markdown",
   "metadata": {},
   "source": [
    "### Distribution of delivery purchases vs takeaway purchases for active users"
   ]
  },
  {
   "cell_type": "code",
   "execution_count": null,
   "metadata": {},
   "outputs": [],
   "source": [
    "# Dataframe to compare delivery vs takeaway\n",
    "delivery_vs_takeaway_df = pd.melt(active_users_df[[\"USER_ID\", \"REGISTRATION_COUNTRY\", \"PURCHASE_COUNT_DELIVERY\", \"PURCHASE_COUNT_TAKEAWAY\"]]\n",
    "                                  .rename(columns={\"PURCHASE_COUNT_DELIVERY\": \"delivery\",\n",
    "                                                   \"PURCHASE_COUNT_TAKEAWAY\": \"takeaway\"}),\n",
    "                                  id_vars=[\"USER_ID\", \"REGISTRATION_COUNTRY\"], value_vars=[\"delivery\", \"takeaway\"], var_name=\"PURCHASE_TYPE\", value_name=\"PURCHASE_COUNT\"\n",
    "                                  )\n"
   ]
  },
  {
   "cell_type": "code",
   "execution_count": null,
   "metadata": {},
   "outputs": [],
   "source": [
    "# Create columns to differentiate delivery only users and takeaway only users\n",
    "active_users_df[\"USERS_DELIVERY_AND_TAKEAWAY\"] = np.where((active_users_df[\"PURCHASE_COUNT_DELIVERY\"] > 0) & (active_users_df[\"PURCHASE_COUNT_TAKEAWAY\"] > 0), 1, 0)\n",
    "active_users_df[\"USERS_DELIVERY_ONLY\"] = np.where((active_users_df[\"PURCHASE_COUNT_DELIVERY\"] > 0) & (active_users_df[\"PURCHASE_COUNT_TAKEAWAY\"] == 0), 1, 0)\n",
    "active_users_df[\"USERS_TAKEAWAY_ONLY\"] = np.where((active_users_df[\"PURCHASE_COUNT_DELIVERY\"] == 0) & (active_users_df[\"PURCHASE_COUNT_TAKEAWAY\"] > 0), 1, 0)"
   ]
  },
  {
   "cell_type": "code",
   "execution_count": null,
   "metadata": {},
   "outputs": [],
   "source": [
    "# Dataframe to compare delivery vs takeaway\n",
    "delivery_vs_takeaway_df_2 = (active_users_df.groupby([\"REGISTRATION_COUNTRY\"])\n",
    "                             .agg(purchase_count_total=(\"PURCHASE_COUNT\", \"sum\"),\n",
    "                                  users_total=(\"USER_ID\", \"nunique\"),\n",
    "                                  users_delivery_and_takeaway=(\n",
    "                                      \"USERS_DELIVERY_AND_TAKEAWAY\", \"sum\"),\n",
    "                                  purchase_count_delivery=(\n",
    "                                      \"PURCHASE_COUNT_DELIVERY\", \"sum\"),\n",
    "                                  users_delivery_only=(\n",
    "                                      \"USERS_DELIVERY_ONLY\", \"sum\"),\n",
    "                                  purchase_count_takeaway=(\n",
    "                                      \"PURCHASE_COUNT_TAKEAWAY\", \"sum\"),\n",
    "                                  users_takeaway_only=(\n",
    "                                      \"USERS_TAKEAWAY_ONLY\", \"sum\")\n",
    "                                  )\n",
    "                             .reset_index()\n",
    "                             )\n",
    "\n",
    "\n",
    "delivery_vs_takeaway_df_2[\"purchase_count_delivery_per\"] = delivery_vs_takeaway_df_2[\"purchase_count_delivery\"] / \\\n",
    "    delivery_vs_takeaway_df_2[\"purchase_count_total\"]\n",
    "delivery_vs_takeaway_df_2[\"purchase_count_takeaway_per\"] = delivery_vs_takeaway_df_2[\"purchase_count_takeaway\"] / \\\n",
    "    delivery_vs_takeaway_df_2[\"purchase_count_total\"]\n"
   ]
  },
  {
   "cell_type": "code",
   "execution_count": null,
   "metadata": {},
   "outputs": [],
   "source": [
    "# Plot share of delivery vs takeaway purchases by registration country\n",
    "plot_df = (delivery_vs_takeaway_df_2[[\"REGISTRATION_COUNTRY\", \"purchase_count_delivery_per\", \"purchase_count_takeaway_per\"]]\n",
    "           .melt(id_vars=['REGISTRATION_COUNTRY'], var_name='purchase_type', value_name='purchase_count_per')\n",
    "           .reset_index()\n",
    "           )\n",
    "\n",
    "g = sns.catplot(data=plot_df,\n",
    "                x=\"REGISTRATION_COUNTRY\",\n",
    "                y=\"purchase_count_per\",\n",
    "                hue=\"purchase_type\",\n",
    "                hue_order=[\"purchase_count_delivery_per\", \"purchase_count_takeaway_per\"],\n",
    "                kind=\"bar\",\n",
    "                order=[\"FIN\", \"DNK\", \"GRC\"],\n",
    "                palette=sns.color_palette(['#00c4e1', '#980000']),\n",
    "                legend=False, \n",
    "                height=6\n",
    "                )\n",
    "\n",
    "g.set_ylabels(\"COUNT PURCHASES %\", fontsize=18)\n",
    "g.set_xlabels(\"\")\n",
    "\n",
    "# Format y tick labels\n",
    "for ax in g.axes.flat:\n",
    "    ax.yaxis.set_major_formatter(tkr.FuncFormatter(lambda y, p: f'{y*100:.0f}%'))\n"
   ]
  },
  {
   "cell_type": "code",
   "execution_count": null,
   "metadata": {},
   "outputs": [],
   "source": [
    "# Plot delivery only users, takeaway only users and deliver and takeaway users by registration country\n",
    "plot_df = (delivery_vs_takeaway_df_2[[\"REGISTRATION_COUNTRY\", \"users_delivery_and_takeaway\", \"users_delivery_only\", \"users_takeaway_only\"]]\n",
    "           .melt(id_vars=['REGISTRATION_COUNTRY'], var_name='user_type', value_name='no_users')\n",
    "           )\n",
    "\n",
    "g = sns.catplot(data=plot_df,\n",
    "                x=\"REGISTRATION_COUNTRY\",\n",
    "                y=\"no_users\",\n",
    "                hue=\"user_type\",\n",
    "                hue_order=[\"users_delivery_and_takeaway\",\n",
    "                           \"users_delivery_only\", \"users_takeaway_only\"],\n",
    "                kind=\"bar\",\n",
    "                order=[\"FIN\", \"DNK\", \"GRC\"],\n",
    "                palette=sns.color_palette(['#ff9900', '#00c4e1', '#980000']),\n",
    "                legend=False,\n",
    "                height=6,\n",
    "                aspect=1.2\n",
    "                )\n",
    "\n",
    "g.set_ylabels(\"# ACTIVE USERS\", fontsize=18)\n",
    "g.set_xlabels(\"\")\n"
   ]
  },
  {
   "attachments": {},
   "cell_type": "markdown",
   "metadata": {},
   "source": [
    "### Distribution of purchases by meal type"
   ]
  },
  {
   "cell_type": "code",
   "execution_count": null,
   "metadata": {},
   "outputs": [],
   "source": [
    "# Data frame to compare purchases for breakfast, lunch, dinner and evening\n",
    "meal_type_df = (active_users_df.groupby([\"REGISTRATION_COUNTRY\"])\n",
    "                .agg(Breakfast=(\"BREAKFAST_PURCHASES\", \"sum\"),\n",
    "                     Lunch=(\"LUNCH_PURCHASES\", \"sum\"),\n",
    "                     Dinner=(\"DINNER_PURCHASES\", \"sum\"),\n",
    "                     Evening=(\"EVENING_PURCHASES\", \"sum\"),\n",
    "                     purchases_total=(\"PURCHASE_COUNT\", \"sum\")\n",
    "                     )\n",
    "                .reset_index()\n",
    "                )\n",
    "meal_type_df[[\"Breakfast\", \"Lunch\", \"Dinner\", \"Evening\", \"purchases_total\"]] = meal_type_df[[\n",
    "    \"Breakfast\", \"Lunch\", \"Dinner\", \"Evening\", \"purchases_total\"]].div(meal_type_df[\"purchases_total\"], axis=0)\n"
   ]
  },
  {
   "cell_type": "code",
   "execution_count": null,
   "metadata": {},
   "outputs": [],
   "source": [
    "meal_type_df"
   ]
  },
  {
   "cell_type": "code",
   "execution_count": null,
   "metadata": {},
   "outputs": [],
   "source": [
    "# Plot share of purchase for brakfast, lunch, dinner and evening\n",
    "plot_df = (meal_type_df.drop(\"purchases_total\", axis=1)\n",
    "           .melt(id_vars=['REGISTRATION_COUNTRY'], var_name='meal_type', value_name='purchase_count_per')\n",
    "           .reset_index()\n",
    "           )\n",
    "\n",
    "g = sns.catplot(data=plot_df,\n",
    "                x=\"purchase_count_per\",\n",
    "                y=\"meal_type\",\n",
    "                col=\"REGISTRATION_COUNTRY\",\n",
    "                kind=\"bar\",\n",
    "                order=[\"Breakfast\", \"Lunch\", \"Dinner\", \"Evening\"],\n",
    "                col_order=[\"FIN\", \"DNK\", \"GRC\"],\n",
    "                palette=sns.color_palette(\n",
    "                    ['#C0C0C0', '#00c4e1', '#00c4e1', '#C0C0C0']),\n",
    "                legend=False,\n",
    "                height=6\n",
    "                )\n",
    "\n",
    "g.set_ylabels(\"\", fontsize=18)\n",
    "g.set_xlabels(\"COUNT PURCHASES %\")\n",
    "g.set_titles(\"{col_name}\")\n",
    "\n",
    "# Format y tick labels\n",
    "for ax in g.axes.flat:\n",
    "    ax.xaxis.set_major_formatter(\n",
    "        tkr.FuncFormatter(lambda x, p: f'{x*100:.0f}%'))\n"
   ]
  },
  {
   "attachments": {},
   "cell_type": "markdown",
   "metadata": {},
   "source": [
    "### Distribution of users by most common hour to purchase\n",
    "- This column does not make sense with an even distribution"
   ]
  },
  {
   "cell_type": "code",
   "execution_count": null,
   "metadata": {},
   "outputs": [],
   "source": [
    "# Data frame aggregated on country and most common hour to purchase\n",
    "time_of_day_df = (active_users_df.groupby([\"REGISTRATION_COUNTRY\", \"MOST_COMMON_HOUR_OF_THE_DAY_TO_PURCHASE\"])\n",
    "                  .agg(users=(\"USER_ID\", \"nunique\"),\n",
    "                       purchases_total=(\"PURCHASE_COUNT\", \"sum\")\n",
    "                       )\n",
    "                  .reset_index()\n",
    "                  )\n"
   ]
  },
  {
   "cell_type": "code",
   "execution_count": null,
   "metadata": {},
   "outputs": [],
   "source": [
    "# Plot purchases by registration country and most common hour of day to purchase\n",
    "g = sns.catplot(data=time_of_day_df,\n",
    "                x=\"MOST_COMMON_HOUR_OF_THE_DAY_TO_PURCHASE\",\n",
    "                y=\"purchases_total\",\n",
    "                col=\"REGISTRATION_COUNTRY\",\n",
    "                kind=\"bar\",\n",
    "                col_order=[\"FIN\", \"DNK\", \"GRC\"],\n",
    "                palette=sns.color_palette(['#C0C0C0']),\n",
    "                legend=False,\n",
    "                height=6.5,\n",
    "                aspect=1.3\n",
    "                )\n",
    "\n",
    "g.set_ylabels(\"PURCHASE COUNT\", fontsize=18)\n",
    "g.set_xlabels(\"\")\n",
    "g.set_titles(\"{col_name}\")\n",
    "\n",
    "# Format y tick labels\n",
    "for ax in g.axes.flat:\n",
    "    ax.xaxis.set_major_formatter(tkr.FuncFormatter(lambda x, p: f'{x:.0f}'))\n"
   ]
  },
  {
   "attachments": {},
   "cell_type": "markdown",
   "metadata": {},
   "source": [
    "### Distribution of purchase venue count\n",
    "- most users buy from < 5 venues"
   ]
  },
  {
   "cell_type": "code",
   "execution_count": null,
   "metadata": {},
   "outputs": [],
   "source": [
    "# Distribution of purchase venue count\n",
    "g = sns.histplot(data=active_users_df.query(\"DISTINCT_PURCHASE_VENUE_COUNT <= 40\"),\n",
    "                 x=\"DISTINCT_PURCHASE_VENUE_COUNT\",\n",
    "                 stat=\"count\",\n",
    "                 palette=sns.color_palette(['silver']),\n",
    "                 discrete=True\n",
    "                 )\n",
    "\n",
    "g.set(xlabel=\"PURCHASE VENUE COUNT*\", ylabel=\"# ACTIVE USERS\")\n",
    "sns.despine()\n"
   ]
  },
  {
   "attachments": {},
   "cell_type": "markdown",
   "metadata": {},
   "source": [
    "### Distribution of purchases by weekday\n",
    "- no day sticks out"
   ]
  },
  {
   "cell_type": "code",
   "execution_count": null,
   "metadata": {},
   "outputs": [],
   "source": [
    "# Plot number of users by most common weekday to purchase\n",
    "plot_df = (active_users_df.groupby([\"REGISTRATION_COUNTRY\", \"MOST_COMMON_WEEKDAY_TO_PURCHASE\"])\n",
    "           .agg(users=(\"USER_ID\", \"nunique\"),\n",
    "                purchases_total=(\"PURCHASE_COUNT\", \"sum\")\n",
    "                )\n",
    "           .reset_index()\n",
    "           )\n",
    "\n",
    "g = sns.catplot(data=plot_df,\n",
    "                x=\"MOST_COMMON_WEEKDAY_TO_PURCHASE\",\n",
    "                y=\"users\",\n",
    "                col=\"REGISTRATION_COUNTRY\",\n",
    "                kind=\"bar\",\n",
    "                col_order=[\"FIN\", \"DNK\", \"GRC\"],\n",
    "                palette=sns.color_palette(['#C0C0C0']),\n",
    "                legend=False,\n",
    "                height=6.5,\n",
    "                aspect=1\n",
    "                )\n",
    "\n",
    "g.set_ylabels(\"# ACTIVE USERS\", fontsize=18)\n",
    "g.set_xlabels(\"\")\n",
    "g.set_titles(\"{col_name}\")\n",
    "\n",
    "# Format y tick labels\n",
    "for ax in g.axes.flat:\n",
    "    ax.xaxis.set_major_formatter(tkr.FuncFormatter(lambda x, p: f'{x:.0f}'))\n"
   ]
  },
  {
   "attachments": {},
   "cell_type": "markdown",
   "metadata": {},
   "source": [
    "### Distribution of purchases by store type"
   ]
  },
  {
   "cell_type": "code",
   "execution_count": null,
   "metadata": {},
   "outputs": [],
   "source": [
    "# Data frame to compare purchases for diffrent store types\n",
    "store_type_df = (active_users_df\n",
    "                 .groupby([\"REGISTRATION_COUNTRY\"])\n",
    "                 .agg(general_merchandise=(\"PURCHASE_COUNT_GENERAL_MERCHANDISE\", \"sum\"),\n",
    "                      Grocery=(\"PURCHASE_COUNT_GROCERY\", \"sum\"),\n",
    "                      pet_supplies=(\"PURCHASE_COUNT_PET_SUPPLIES\", \"sum\"),\n",
    "                      Restaurant=(\"PURCHASE_COUNT_RESTAURANT\", \"sum\"),\n",
    "                      retail_store=(\"PURCHASE_COUNT_RETAIL_STORE\", \"sum\"),\n",
    "                      purchases_total=(\"PURCHASE_COUNT\", \"sum\")\n",
    "                      )\n",
    "                 .reset_index()\n",
    "                 .rename(columns={\"general_merchandise\": \"General merchandise\",\n",
    "                                  \"pet_supplies\": \"Pet supplies\",\n",
    "                                  \"retail_store\": \"Retail store\"\n",
    "                                  })\n",
    "                 )\n",
    "store_type_df[[\"General merchandise\", \"Grocery\", \"Pet supplies\", \"Restaurant\", \"Retail store\"]] = store_type_df[[\n",
    "    \"General merchandise\", \"Grocery\", \"Pet supplies\", \"Restaurant\", \"Retail store\"]].div(store_type_df[\"purchases_total\"], axis=0)\n"
   ]
  },
  {
   "cell_type": "code",
   "execution_count": null,
   "metadata": {},
   "outputs": [],
   "source": [
    "# Plot share of purchases by store type\n",
    "plot_df = (store_type_df.drop(\"purchases_total\", axis=1)\n",
    "           .melt(id_vars=['REGISTRATION_COUNTRY'], var_name='store_type', value_name='purchase_count_per')\n",
    "           .reset_index()\n",
    "           )\n",
    "\n",
    "g = sns.catplot(data=plot_df,\n",
    "                x=\"purchase_count_per\",\n",
    "                y=\"store_type\",\n",
    "                col=\"REGISTRATION_COUNTRY\",\n",
    "                kind=\"bar\",\n",
    "                order=[\"Restaurant\", \"Retail store\", \"Grocery\",\n",
    "                       \"General merchandise\", \"Pet supplies\"],\n",
    "                col_order=[\"FIN\", \"DNK\", \"GRC\"],\n",
    "                palette=sns.color_palette(\n",
    "                    ['#00c4e1', '#C0C0C0', '#C0C0C0', '#C0C0C0', '#C0C0C0']),\n",
    "                legend=False,\n",
    "                height=6\n",
    "                )\n",
    "\n",
    "g.set_ylabels(\"\", fontsize=18)\n",
    "g.set_xlabels(\"COUNT PURCHASES %\")\n",
    "g.set_titles(\"{col_name}\")\n",
    "\n",
    "# Format y tick labels\n",
    "for ax in g.axes.flat:\n",
    "    ax.xaxis.set_major_formatter(\n",
    "        tkr.FuncFormatter(lambda x, p: f'{x*100:.0f}%'))\n"
   ]
  },
  {
   "attachments": {},
   "cell_type": "markdown",
   "metadata": {},
   "source": [
    "### Distribution avg days between purchases"
   ]
  },
  {
   "cell_type": "code",
   "execution_count": null,
   "metadata": {},
   "outputs": [],
   "source": [
    "# Plot distribution of avg days between purchases by purchase groups and country\n",
    "g = sns.catplot(data=active_users_df,\n",
    "                x=\"PURCHASE_COUNT_BIN\",\n",
    "                y=\"AVG_DAYS_BETWEEN_PURCHASES\",\n",
    "                col=\"REGISTRATION_COUNTRY\",\n",
    "                kind=\"boxen\",\n",
    "                order=[\"1\", \"2-5\", \"6-10\", \"11-20\", \"21-50\", \">50\"],\n",
    "                col_order=[\"FIN\", \"DNK\", \"GRC\"],\n",
    "                palette=sns.color_palette(['silver']),\n",
    "                legend=False,\n",
    "                height=7\n",
    "                )\n",
    "\n",
    "g.set_ylabels(\"AVG DAYS BETWEEN PURCHASES\", fontsize=18)\n",
    "g.set_xlabels(\"\")\n",
    "g.set_titles(\"{col_name}\")\n"
   ]
  },
  {
   "attachments": {},
   "cell_type": "markdown",
   "metadata": {},
   "source": [
    "### Distribution median days between purchases"
   ]
  },
  {
   "cell_type": "code",
   "execution_count": null,
   "metadata": {},
   "outputs": [],
   "source": [
    "# Plot distribution of median days between purchases by purchase groups and country\n",
    "g = sns.catplot(data=active_users_df,\n",
    "                x=\"PURCHASE_COUNT_BIN\",\n",
    "                y=\"MEDIAN_DAYS_BETWEEN_PURCHASES\",\n",
    "                col=\"REGISTRATION_COUNTRY\",\n",
    "                kind=\"boxen\",\n",
    "                order=[\"1\", \"2-5\", \"6-10\", \"11-20\", \"21-50\", \">50\"],\n",
    "                col_order=[\"FIN\", \"DNK\", \"GRC\"],\n",
    "                palette=sns.color_palette(['silver']),\n",
    "                legend=False,\n",
    "                height=7\n",
    "                )\n",
    "\n",
    "g.set_ylabels(\"MEDIAN DAYS BETWEEN PURCHASES\", fontsize=18)\n",
    "g.set_xlabels(\"\")\n",
    "g.set_titles(\"{col_name}\")\n"
   ]
  },
  {
   "attachments": {},
   "cell_type": "markdown",
   "metadata": {},
   "source": [
    "### Distribution avg delivery distance"
   ]
  },
  {
   "cell_type": "code",
   "execution_count": null,
   "metadata": {},
   "outputs": [],
   "source": [
    "# Column for delivery distance\n",
    "active_users_df[\"AVERAGE_DELIVERY_DISTANCE_KMS_BINS\"] = (\n",
    "    np.where((active_users_df[\"AVERAGE_DELIVERY_DISTANCE_KMS\"] < 1), \"<1KM\",\n",
    "             np.where((active_users_df[\"AVERAGE_DELIVERY_DISTANCE_KMS\"] >= 1) & (active_users_df[\"AVERAGE_DELIVERY_DISTANCE_KMS\"] < 2), \"1-2KM\",\n",
    "                      np.where((active_users_df[\"AVERAGE_DELIVERY_DISTANCE_KMS\"] >= 2) & (active_users_df[\"AVERAGE_DELIVERY_DISTANCE_KMS\"] < 5), \"2-5KM\",\n",
    "                               np.where((active_users_df[\"AVERAGE_DELIVERY_DISTANCE_KMS\"] >= 5) & (active_users_df[\"AVERAGE_DELIVERY_DISTANCE_KMS\"] < 10), \"5-10KM\", \">=10KM\"\n",
    "                                                 ))))\n",
    ")\n",
    "\n",
    "# Dataframe to check delivery distance distribution\n",
    "distance_df = (active_users_df.groupby([\"REGISTRATION_COUNTRY\", \"AVERAGE_DELIVERY_DISTANCE_KMS_BINS\"])\n",
    "               .agg(users=(\"USER_ID\", \"nunique\"),\n",
    "                    purchases_total=(\"PURCHASE_COUNT\", \"sum\")\n",
    "                    )\n",
    "               .reset_index()\n",
    "               )"
   ]
  },
  {
   "cell_type": "code",
   "execution_count": null,
   "metadata": {},
   "outputs": [],
   "source": [
    "# Plot number of user by delivery distance groups and country\n",
    "g = sns.catplot(data=distance_df,\n",
    "                x=\"AVERAGE_DELIVERY_DISTANCE_KMS_BINS\",\n",
    "                y=\"users\",\n",
    "                col=\"REGISTRATION_COUNTRY\",\n",
    "                kind=\"bar\",\n",
    "                order=[\"<1KM\", \"1-2KM\", \"2-5KM\", \"5-10KM\", \">=10KM\"],\n",
    "                col_order=[\"FIN\", \"DNK\", \"GRC\"],\n",
    "                palette=sns.color_palette(\n",
    "                    ['#C0C0C0', '#C0C0C0', '#C0C0C0', '#00c4e1', '#C0C0C0', '#C0C0C0']),\n",
    "                legend=False,\n",
    "                height=6.5,\n",
    "                aspect=1\n",
    "                )\n",
    "\n",
    "g.set_ylabels(\"# ACTIVE USERS\", fontsize=18)\n",
    "g.set_xlabels(\"\")\n",
    "g.set_titles(\"{col_name}\")\n"
   ]
  },
  {
   "attachments": {},
   "cell_type": "markdown",
   "metadata": {},
   "source": [
    "### Distribution days from last purchase"
   ]
  },
  {
   "cell_type": "code",
   "execution_count": null,
   "metadata": {},
   "outputs": [],
   "source": [
    "# Plot distribution days from last purchase by country and purchase groups\n",
    "g = sns.catplot(data=active_users_df,\n",
    "                x=\"PURCHASE_COUNT_BIN\",\n",
    "                y=\"DAYS_FROM_LAST_PURCHASE\",\n",
    "                col=\"REGISTRATION_COUNTRY\",\n",
    "                kind=\"boxen\",\n",
    "                order=[\"1\", \"2-5\", \"6-10\", \"11-20\", \"21-50\", \">50\"],\n",
    "                col_order=[\"FIN\", \"DNK\", \"GRC\"],\n",
    "                palette=sns.color_palette(['silver']),\n",
    "                legend=False,\n",
    "                height=7\n",
    "                )\n",
    "\n",
    "g.set_ylabels(\"DAYS FROM LAST PURCHASE*\", fontsize=18)\n",
    "g.set_xlabels(\"\")\n",
    "g.set_titles(\"{col_name}\")\n",
    "\n",
    "# Add horizontal line at 90 days from last purchase\n",
    "g.axes[0][0].axhline(90, ls='--', color='#00c4e1', linewidth=2)\n",
    "g.axes[0][1].axhline(90, ls='--', color='#00c4e1', linewidth=2)\n",
    "g.axes[0][2].axhline(90, ls='--', color='#00c4e1', linewidth=2)\n"
   ]
  },
  {
   "attachments": {},
   "cell_type": "markdown",
   "metadata": {},
   "source": [
    "# Customer segmentation"
   ]
  },
  {
   "attachments": {},
   "cell_type": "markdown",
   "metadata": {},
   "source": [
    "## Finland"
   ]
  },
  {
   "attachments": {},
   "cell_type": "markdown",
   "metadata": {},
   "source": [
    "### Users by customer segment"
   ]
  },
  {
   "cell_type": "code",
   "execution_count": null,
   "metadata": {},
   "outputs": [],
   "source": [
    "# Data frame with percentage of users\n",
    "counts = user_data_filtered_df.query(\"REGISTRATION_COUNTRY == 'FIN'\")[\"PURCHASE_COUNT_SEGM\"].value_counts()\n",
    "percent = user_data_filtered_df.query(\"REGISTRATION_COUNTRY == 'FIN'\")[\"PURCHASE_COUNT_SEGM\"].value_counts(normalize=True)\n",
    "user_per_df = pd.DataFrame({'Users': counts, 'Percentage': percent}).reset_index()\n",
    "\n",
    "# Percentage of users\n",
    "user_per_df.style.format({'Percentage': \"{:.2%}\"})"
   ]
  },
  {
   "attachments": {},
   "cell_type": "markdown",
   "metadata": {},
   "source": [
    "### Inactive users by payment method"
   ]
  },
  {
   "cell_type": "code",
   "execution_count": null,
   "metadata": {},
   "outputs": [],
   "source": [
    "# Data frame with percentage of users\n",
    "counts = user_data_filtered_df.query(\"REGISTRATION_COUNTRY == 'FIN' and PURCHASE_COUNT_SEGM == 'inactive'\")[\"USER_HAS_VALID_PAYMENT_METHOD\"].value_counts()\n",
    "percent = user_data_filtered_df.query(\"REGISTRATION_COUNTRY == 'FIN' and PURCHASE_COUNT_SEGM == 'inactive'\")[\"USER_HAS_VALID_PAYMENT_METHOD\"].value_counts(normalize=True)\n",
    "user_per_df = pd.DataFrame({'Users': counts, 'Percentage': percent}).reset_index()\n",
    "\n",
    "# Percentage of users\n",
    "user_per_df.style.format({'Percentage': \"{:.2%}\"})"
   ]
  },
  {
   "attachments": {},
   "cell_type": "markdown",
   "metadata": {},
   "source": [
    "### One-time shoppers by days from last purchase"
   ]
  },
  {
   "cell_type": "code",
   "execution_count": null,
   "metadata": {},
   "outputs": [],
   "source": [
    "# Data frame with percentage of users\n",
    "counts = user_data_filtered_df.query(\"REGISTRATION_COUNTRY == 'FIN' and PURCHASE_COUNT_SEGM == 'one_time_shoppers'\")[\"DAYS_FROM_LAST_PURCHASE_segm\"].value_counts()\n",
    "percent = user_data_filtered_df.query(\"REGISTRATION_COUNTRY == 'FIN' and PURCHASE_COUNT_SEGM == 'one_time_shoppers'\")[\"DAYS_FROM_LAST_PURCHASE_segm\"].value_counts(normalize=True)\n",
    "user_per_df = pd.DataFrame({'Users': counts, 'Percentage': percent}).reset_index()\n",
    "\n",
    "# Percentage of users\n",
    "user_per_df.style.format({'Percentage': \"{:.2%}\"})"
   ]
  },
  {
   "attachments": {},
   "cell_type": "markdown",
   "metadata": {},
   "source": [
    "### Casual shoppers by days from last purchase"
   ]
  },
  {
   "cell_type": "code",
   "execution_count": null,
   "metadata": {},
   "outputs": [],
   "source": [
    "# Data frame with percentage of users\n",
    "counts = user_data_filtered_df.query(\"REGISTRATION_COUNTRY == 'FIN' and PURCHASE_COUNT_SEGM == 'casual_shoppers'\")[\"DAYS_FROM_LAST_PURCHASE_segm\"].value_counts()\n",
    "percent = user_data_filtered_df.query(\"REGISTRATION_COUNTRY == 'FIN' and PURCHASE_COUNT_SEGM == 'casual_shoppers'\")[\"DAYS_FROM_LAST_PURCHASE_segm\"].value_counts(normalize=True)\n",
    "user_per_df = pd.DataFrame({'Users': counts, 'Percentage': percent}).reset_index()\n",
    "\n",
    "# Percentage of users\n",
    "user_per_df.style.format({'Percentage': \"{:.2%}\"})"
   ]
  },
  {
   "attachments": {},
   "cell_type": "markdown",
   "metadata": {},
   "source": [
    "### Frequent shoppers by days from last purchase"
   ]
  },
  {
   "cell_type": "code",
   "execution_count": null,
   "metadata": {},
   "outputs": [],
   "source": [
    "# Data frame with percentage of users\n",
    "counts = user_data_filtered_df.query(\"REGISTRATION_COUNTRY == 'FIN' and PURCHASE_COUNT_SEGM == 'frequent_shoppers'\")[\"DAYS_FROM_LAST_PURCHASE_segm\"].value_counts()\n",
    "percent = user_data_filtered_df.query(\"REGISTRATION_COUNTRY == 'FIN' and PURCHASE_COUNT_SEGM == 'frequent_shoppers'\")[\"DAYS_FROM_LAST_PURCHASE_segm\"].value_counts(normalize=True)\n",
    "user_per_df = pd.DataFrame({'Users': counts, 'Percentage': percent}).reset_index()\n",
    "\n",
    "# Percentage of users\n",
    "user_per_df.style.format({'Percentage': \"{:.2%}\"})"
   ]
  },
  {
   "attachments": {},
   "cell_type": "markdown",
   "metadata": {},
   "source": [
    "## Denmark"
   ]
  },
  {
   "attachments": {},
   "cell_type": "markdown",
   "metadata": {},
   "source": [
    "### Users bys customer segment"
   ]
  },
  {
   "cell_type": "code",
   "execution_count": null,
   "metadata": {},
   "outputs": [],
   "source": [
    "# Data frame with percentage of users \n",
    "counts = user_data_filtered_df.query(\"REGISTRATION_COUNTRY == 'DNK'\")[\"PURCHASE_COUNT_SEGM\"].value_counts()\n",
    "percent = user_data_filtered_df.query(\"REGISTRATION_COUNTRY == 'DNK'\")[\"PURCHASE_COUNT_SEGM\"].value_counts(normalize=True)\n",
    "user_per_df = pd.DataFrame({'Users': counts, 'Percentage': percent}).reset_index()\n",
    "\n",
    "# Percentage of users\n",
    "user_per_df.style.format({'Percentage': \"{:.2%}\"})"
   ]
  },
  {
   "attachments": {},
   "cell_type": "markdown",
   "metadata": {},
   "source": [
    "### Inactive users by payment method"
   ]
  },
  {
   "cell_type": "code",
   "execution_count": null,
   "metadata": {},
   "outputs": [],
   "source": [
    "# Data frame with percentage of users \n",
    "counts = user_data_filtered_df.query(\"REGISTRATION_COUNTRY == 'DNK' and PURCHASE_COUNT_SEGM == 'inactive'\")[\"USER_HAS_VALID_PAYMENT_METHOD\"].value_counts()\n",
    "percent = user_data_filtered_df.query(\"REGISTRATION_COUNTRY == 'DNK' and PURCHASE_COUNT_SEGM == 'inactive'\")[\"USER_HAS_VALID_PAYMENT_METHOD\"].value_counts(normalize=True)\n",
    "user_per_df = pd.DataFrame({'Users': counts, 'Percentage': percent}).reset_index()\n",
    "\n",
    "# Percentage of users \n",
    "user_per_df.style.format({'Percentage': \"{:.2%}\"})"
   ]
  },
  {
   "attachments": {},
   "cell_type": "markdown",
   "metadata": {},
   "source": [
    "### One-time shoppers by days from last purchase"
   ]
  },
  {
   "cell_type": "code",
   "execution_count": null,
   "metadata": {},
   "outputs": [],
   "source": [
    "# Data frame with percentage of users \n",
    "counts = user_data_filtered_df.query(\"REGISTRATION_COUNTRY == 'DNK' and PURCHASE_COUNT_SEGM == 'one_time_shoppers'\")[\"DAYS_FROM_LAST_PURCHASE_segm\"].value_counts()\n",
    "percent = user_data_filtered_df.query(\"REGISTRATION_COUNTRY == 'DNK' and PURCHASE_COUNT_SEGM == 'one_time_shoppers'\")[\"DAYS_FROM_LAST_PURCHASE_segm\"].value_counts(normalize=True)\n",
    "user_per_df = pd.DataFrame({'Users': counts, 'Percentage': percent}).reset_index()\n",
    "\n",
    "# Percentage of users \n",
    "user_per_df.style.format({'Percentage': \"{:.2%}\"})"
   ]
  },
  {
   "attachments": {},
   "cell_type": "markdown",
   "metadata": {},
   "source": [
    "### Casual shoppers by days from last purchase"
   ]
  },
  {
   "cell_type": "code",
   "execution_count": null,
   "metadata": {},
   "outputs": [],
   "source": [
    "# Data frame with percentage of users \n",
    "counts = user_data_filtered_df.query(\"REGISTRATION_COUNTRY == 'DNK' and PURCHASE_COUNT_SEGM == 'casual_shoppers'\")[\"DAYS_FROM_LAST_PURCHASE_segm\"].value_counts()\n",
    "percent = user_data_filtered_df.query(\"REGISTRATION_COUNTRY == 'DNK' and PURCHASE_COUNT_SEGM == 'casual_shoppers'\")[\"DAYS_FROM_LAST_PURCHASE_segm\"].value_counts(normalize=True)\n",
    "user_per_df = pd.DataFrame({'Users': counts, 'Percentage': percent}).reset_index()\n",
    "\n",
    "# Percentage of users \n",
    "user_per_df.style.format({'Percentage': \"{:.2%}\"})"
   ]
  },
  {
   "attachments": {},
   "cell_type": "markdown",
   "metadata": {},
   "source": [
    "### Frequent shoppers by days from last purchase"
   ]
  },
  {
   "cell_type": "code",
   "execution_count": null,
   "metadata": {},
   "outputs": [],
   "source": [
    "# Data frame with percentage of users \n",
    "counts = user_data_filtered_df.query(\"REGISTRATION_COUNTRY == 'DNK' and PURCHASE_COUNT_SEGM == 'frequent_shoppers'\")[\"DAYS_FROM_LAST_PURCHASE_segm\"].value_counts()\n",
    "percent = user_data_filtered_df.query(\"REGISTRATION_COUNTRY == 'DNK' and PURCHASE_COUNT_SEGM == 'frequent_shoppers'\")[\"DAYS_FROM_LAST_PURCHASE_segm\"].value_counts(normalize=True)\n",
    "user_per_df = pd.DataFrame({'Users': counts, 'Percentage': percent}).reset_index()\n",
    "\n",
    "# Percentage of users \n",
    "user_per_df.style.format({'Percentage': \"{:.2%}\"})"
   ]
  },
  {
   "attachments": {},
   "cell_type": "markdown",
   "metadata": {},
   "source": [
    "## Greece"
   ]
  },
  {
   "attachments": {},
   "cell_type": "markdown",
   "metadata": {},
   "source": [
    "### Users by customer segment"
   ]
  },
  {
   "cell_type": "code",
   "execution_count": null,
   "metadata": {},
   "outputs": [],
   "source": [
    "# Data frame with percentage of users \n",
    "counts = user_data_filtered_df.query(\"REGISTRATION_COUNTRY == 'GRC'\")[\"PURCHASE_COUNT_SEGM\"].value_counts()\n",
    "percent = user_data_filtered_df.query(\"REGISTRATION_COUNTRY == 'GRC'\")[\"PURCHASE_COUNT_SEGM\"].value_counts(normalize=True)\n",
    "user_per_df = pd.DataFrame({'Users': counts, 'Percentage': percent}).reset_index()\n",
    "\n",
    "# Percentage of users per \n",
    "user_per_df.style.format({'Percentage': \"{:.2%}\"})"
   ]
  },
  {
   "attachments": {},
   "cell_type": "markdown",
   "metadata": {},
   "source": [
    "### Inactive users by payment method"
   ]
  },
  {
   "cell_type": "code",
   "execution_count": null,
   "metadata": {},
   "outputs": [],
   "source": [
    "# Data frame with percentage of users \n",
    "counts = user_data_filtered_df.query(\"REGISTRATION_COUNTRY == 'GRC' and PURCHASE_COUNT_SEGM == 'inactive'\")[\"USER_HAS_VALID_PAYMENT_METHOD\"].value_counts()\n",
    "percent = user_data_filtered_df.query(\"REGISTRATION_COUNTRY == 'GRC' and PURCHASE_COUNT_SEGM == 'inactive'\")[\"USER_HAS_VALID_PAYMENT_METHOD\"].value_counts(normalize=True)\n",
    "user_per_df = pd.DataFrame({'Users': counts, 'Percentage': percent}).reset_index()\n",
    "\n",
    "# Percentage of users \n",
    "user_per_df.style.format({'Percentage': \"{:.2%}\"})"
   ]
  },
  {
   "attachments": {},
   "cell_type": "markdown",
   "metadata": {},
   "source": [
    "### One-time shoppers by days from last purchase"
   ]
  },
  {
   "cell_type": "code",
   "execution_count": null,
   "metadata": {},
   "outputs": [],
   "source": [
    "# Data frame with percentage of users \n",
    "counts = user_data_filtered_df.query(\"REGISTRATION_COUNTRY == 'GRC' and PURCHASE_COUNT_SEGM == 'one_time_shoppers'\")[\"DAYS_FROM_LAST_PURCHASE_segm\"].value_counts()\n",
    "percent = user_data_filtered_df.query(\"REGISTRATION_COUNTRY == 'GRC' and PURCHASE_COUNT_SEGM == 'one_time_shoppers'\")[\"DAYS_FROM_LAST_PURCHASE_segm\"].value_counts(normalize=True)\n",
    "user_per_df = pd.DataFrame({'Users': counts, 'Percentage': percent}).reset_index()\n",
    "\n",
    "# Percentage of users \n",
    "user_per_df.style.format({'Percentage': \"{:.2%}\"})"
   ]
  },
  {
   "attachments": {},
   "cell_type": "markdown",
   "metadata": {},
   "source": [
    "### Casual shoppers by days from last purchase"
   ]
  },
  {
   "cell_type": "code",
   "execution_count": null,
   "metadata": {},
   "outputs": [],
   "source": [
    "# Data frame with percentage of users \n",
    "counts = user_data_filtered_df.query(\"REGISTRATION_COUNTRY == 'GRC' and PURCHASE_COUNT_SEGM == 'casual_shoppers'\")[\"DAYS_FROM_LAST_PURCHASE_segm\"].value_counts()\n",
    "percent = user_data_filtered_df.query(\"REGISTRATION_COUNTRY == 'GRC' and PURCHASE_COUNT_SEGM == 'casual_shoppers'\")[\"DAYS_FROM_LAST_PURCHASE_segm\"].value_counts(normalize=True)\n",
    "user_per_df = pd.DataFrame({'Users': counts, 'Percentage': percent}).reset_index()\n",
    "\n",
    "# Percentage of users \n",
    "user_per_df.style.format({'Percentage': \"{:.2%}\"})"
   ]
  },
  {
   "attachments": {},
   "cell_type": "markdown",
   "metadata": {},
   "source": [
    "### Frequent shoppers by days from last purchase"
   ]
  },
  {
   "cell_type": "code",
   "execution_count": null,
   "metadata": {},
   "outputs": [],
   "source": [
    "# Data frame with percentage of users \n",
    "counts = user_data_filtered_df.query(\"REGISTRATION_COUNTRY == 'GRC' and PURCHASE_COUNT_SEGM == 'frequent_shoppers'\")[\"DAYS_FROM_LAST_PURCHASE_segm\"].value_counts()\n",
    "percent = user_data_filtered_df.query(\"REGISTRATION_COUNTRY == 'GRC' and PURCHASE_COUNT_SEGM == 'frequent_shoppers'\")[\"DAYS_FROM_LAST_PURCHASE_segm\"].value_counts(normalize=True)\n",
    "user_per_df = pd.DataFrame({'Users': counts, 'Percentage': percent}).reset_index()\n",
    "\n",
    "# Percentage of users \n",
    "user_per_df.style.format({'Percentage': \"{:.2%}\"})"
   ]
  },
  {
   "attachments": {},
   "cell_type": "markdown",
   "metadata": {},
   "source": [
    "## Visualize the 4 customer segments"
   ]
  },
  {
   "cell_type": "code",
   "execution_count": null,
   "metadata": {},
   "outputs": [],
   "source": [
    "# Scatter plot for purchase count vs days from last purchase\n",
    "g = sns.relplot(data=user_data_filtered_df.fillna(0).query(\"PURCHASE_COUNT <= 100\"),\n",
    "                    x=\"DAYS_FROM_LAST_PURCHASE\",\n",
    "                    y=\"PURCHASE_COUNT\",\n",
    "                    hue=\"PURCHASE_COUNT_SEGM\",\n",
    "                    hue_order=[\"inactive\", \"one_time_shoppers\",\n",
    "                               \"casual_shoppers\", \"frequent_shoppers\"],\n",
    "                    col=\"REGISTRATION_COUNTRY\",\n",
    "                    col_order=[\"FIN\", \"DNK\", \"GRC\"],\n",
    "                    palette=sns.color_palette(\n",
    "                        ['#980000', '#ff9900', '#00c4e1', '#C0C0C0']),\n",
    "                    legend=False, \n",
    "                    height=6.5\n",
    "                    )\n",
    "\n",
    "g.set_xlabels(\"DAYS FROM LAST PURCHASE\", fontsize=18)\n",
    "g.set_ylabels(\"PURCHASE COUNT*\")\n",
    "g.set_titles(\"{col_name}\")\n",
    "\n",
    "# Add horizontal line at 90 days from last purchase\n",
    "g.axes[0][0].axvline(90, ls='--', color='gray', linewidth=1)\n",
    "g.axes[0][1].axvline(90, ls='--', color='gray', linewidth=1)\n",
    "g.axes[0][2].axvline(90, ls='--', color='gray', linewidth=1)"
   ]
  },
  {
   "cell_type": "code",
   "execution_count": null,
   "metadata": {},
   "outputs": [],
   "source": [
    "# Scatter plot for purchase count vs days from last purchase\n",
    "g = sns.relplot(data=user_data_filtered_df.fillna(0).query(\"PURCHASE_COUNT <= 100\"),\n",
    "                    x=\"AVG_PURCHASE_VALUE_EUR\",\n",
    "                    y=\"PURCHASE_COUNT\",\n",
    "                    hue=\"PURCHASE_COUNT_SEGM\",\n",
    "                    hue_order=[\"inactive\", \"one_time_shoppers\",\n",
    "                               \"casual_shoppers\", \"frequent_shoppers\"],\n",
    "                    col=\"REGISTRATION_COUNTRY\",\n",
    "                    col_order=[\"FIN\", \"DNK\", \"GRC\"],\n",
    "                    palette=sns.color_palette(\n",
    "                        ['#980000', '#ff9900', '#00c4e1', '#C0C0C0']),\n",
    "                    legend=False, \n",
    "                    height=6.5\n",
    "                    )\n",
    "\n",
    "g.set_xlabels(\"AVG PURCHASE VALUE €\", fontsize=18)\n",
    "g.set_ylabels(\"PURCHASE COUNT*\")\n",
    "g.set_titles(\"{col_name}\")"
   ]
  },
  {
   "cell_type": "code",
   "execution_count": null,
   "metadata": {},
   "outputs": [],
   "source": [
    "# Scatter plot for purchase count vs days from last purchase\n",
    "g = sns.relplot(data=user_data_filtered_df.fillna(0).query(\"PURCHASE_COUNT <= 100\"),\n",
    "                    x=\"AVG_DAYS_BETWEEN_PURCHASES\",\n",
    "                    y=\"PURCHASE_COUNT\",\n",
    "                    hue=\"PURCHASE_COUNT_SEGM\",\n",
    "                    hue_order=[\"inactive\", \"one_time_shoppers\",\n",
    "                               \"casual_shoppers\", \"frequent_shoppers\"],\n",
    "                    col=\"REGISTRATION_COUNTRY\",\n",
    "                    col_order=[\"FIN\", \"DNK\", \"GRC\"],\n",
    "                    palette=sns.color_palette(\n",
    "                        ['#980000', '#ff9900', '#00c4e1', '#C0C0C0']),\n",
    "                    legend=False, \n",
    "                    height=6.5\n",
    "                    )\n",
    "\n",
    "g.set_xlabels(\"AVG DAYS BETWEEN PURCHASES\", fontsize=18)\n",
    "g.set_ylabels(\"PURCHASE COUNT*\")\n",
    "g.set_titles(\"{col_name}\")"
   ]
  },
  {
   "attachments": {},
   "cell_type": "markdown",
   "metadata": {},
   "source": [
    "## Correlation matrix"
   ]
  },
  {
   "cell_type": "code",
   "execution_count": null,
   "metadata": {},
   "outputs": [],
   "source": [
    "active_users_df.corr()"
   ]
  }
 ],
 "metadata": {
  "kernelspec": {
   "display_name": "base",
   "language": "python",
   "name": "python3"
  },
  "language_info": {
   "codemirror_mode": {
    "name": "ipython",
    "version": 3
   },
   "file_extension": ".py",
   "mimetype": "text/x-python",
   "name": "python",
   "nbconvert_exporter": "python",
   "pygments_lexer": "ipython3",
   "version": "3.8.5"
  },
  "orig_nbformat": 4,
  "vscode": {
   "interpreter": {
    "hash": "0e90d8cd384afd6381eed726f8ae9ab1832b68d48a7f446b6725bd54be87d1d8"
   }
  }
 },
 "nbformat": 4,
 "nbformat_minor": 2
}
